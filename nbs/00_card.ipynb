{
 "cells": [
  {
   "cell_type": "markdown",
   "metadata": {},
   "source": [
    "# card -- A playing card\n",
    "\n",
    "> API for playing cards"
   ]
  },
  {
   "cell_type": "code",
   "execution_count": 5,
   "metadata": {
    "ExecuteTime": {
     "end_time": "2023-05-26T14:36:20.330862Z",
     "start_time": "2023-05-26T14:36:20.324516Z"
    }
   },
   "outputs": [],
   "source": [
    "#| default_exp card"
   ]
  },
  {
   "cell_type": "code",
   "execution_count": 10,
   "metadata": {
    "ExecuteTime": {
     "end_time": "2023-05-26T14:54:47.322565Z",
     "start_time": "2023-05-26T14:54:47.314395Z"
    }
   },
   "outputs": [],
   "source": [
    "#| hide\n",
    "from nbdev.showdoc import *\n",
    "from fastcore.test import *"
   ]
  },
  {
   "cell_type": "code",
   "execution_count": 11,
   "metadata": {
    "ExecuteTime": {
     "end_time": "2023-05-26T14:54:47.634925Z",
     "start_time": "2023-05-26T14:54:47.628730Z"
    }
   },
   "outputs": [],
   "source": [
    "#| export\n",
    "from fastcore.utils import *"
   ]
  },
  {
   "cell_type": "code",
   "execution_count": 12,
   "metadata": {
    "ExecuteTime": {
     "end_time": "2023-05-26T14:54:52.210863Z",
     "start_time": "2023-05-26T14:54:52.204546Z"
    }
   },
   "outputs": [],
   "source": [
    "#| export\n",
    "suits = [\"♣️\",\"♠️\",\"❤️\",\"♦️\"]\n",
    "ranks = [None, None] + [str(x) for x in range(2,11)] + [\"J\", \"Q\", \"K\", \"A\"]"
   ]
  },
  {
   "cell_type": "markdown",
   "metadata": {},
   "source": [
    "We will be using numbers to represent playing card suits and ranks. The suits are:"
   ]
  },
  {
   "cell_type": "code",
   "execution_count": 9,
   "metadata": {
    "ExecuteTime": {
     "end_time": "2023-05-26T14:36:27.453497Z",
     "start_time": "2023-05-26T14:36:27.440167Z"
    }
   },
   "outputs": [
    {
     "data": {
      "text/plain": [
       "['♣️', '♠️', '❤️', '♦️']"
      ]
     },
     "execution_count": 9,
     "metadata": {},
     "output_type": "execute_result"
    }
   ],
   "source": [
    "suits"
   ]
  },
  {
   "cell_type": "markdown",
   "metadata": {},
   "source": [
    "For instance the suit at index 0 is:"
   ]
  },
  {
   "cell_type": "code",
   "execution_count": 5,
   "metadata": {
    "ExecuteTime": {
     "end_time": "2023-05-26T13:13:06.515696Z",
     "start_time": "2023-05-26T13:13:06.513679Z"
    }
   },
   "outputs": [],
   "source": [
    "suits[0]"
   ]
  },
  {
   "cell_type": "markdown",
   "metadata": {
    "ExecuteTime": {
     "end_time": "2023-05-25T21:03:48.747145Z",
     "start_time": "2023-05-25T21:03:48.732100Z"
    }
   },
   "source": [
    "The ranks are:"
   ]
  },
  {
   "cell_type": "code",
   "execution_count": 6,
   "metadata": {
    "ExecuteTime": {
     "end_time": "2023-05-26T13:13:06.518288Z",
     "start_time": "2023-05-26T13:13:06.516343Z"
    }
   },
   "outputs": [],
   "source": [
    "ranks"
   ]
  },
  {
   "cell_type": "markdown",
   "metadata": {
    "ExecuteTime": {
     "end_time": "2023-05-25T21:06:27.465479Z",
     "start_time": "2023-05-25T21:06:27.459278Z"
    }
   },
   "source": [
    "For instance the rank at index `1` (note that there is not aplyaing card at position `0`, since we want the ranks to match the indices where possible):"
   ]
  },
  {
   "cell_type": "code",
   "execution_count": 7,
   "metadata": {
    "ExecuteTime": {
     "end_time": "2023-05-26T13:13:06.520559Z",
     "start_time": "2023-05-26T13:13:06.519025Z"
    }
   },
   "outputs": [],
   "source": [
    "ranks[14]"
   ]
  },
  {
   "cell_type": "code",
   "execution_count": 8,
   "metadata": {
    "ExecuteTime": {
     "end_time": "2023-05-26T13:13:06.522669Z",
     "start_time": "2023-05-26T13:13:06.521076Z"
    }
   },
   "outputs": [],
   "source": [
    "#| export\n",
    "class Card: \n",
    "    'A playing card'\n",
    "    def __init__(self, \n",
    "                 suit:int,  # An index into `suits` \n",
    "                 rank:int): # An index into `ranks`\n",
    "        self.suit, self.rank = suit, rank\n",
    "    def __str__(self): return f\"{suits[self.suit]}{ranks[self.rank]}\"\n",
    "    __repr__ = __str__\n",
    "    "
   ]
  },
  {
   "cell_type": "code",
   "execution_count": 9,
   "metadata": {
    "ExecuteTime": {
     "end_time": "2023-05-26T13:13:06.573502Z",
     "start_time": "2023-05-26T13:13:06.524640Z"
    }
   },
   "outputs": [],
   "source": [
    "show_doc(Card)"
   ]
  },
  {
   "cell_type": "markdown",
   "metadata": {},
   "source": [
    "Here is an example creating an displaying card:"
   ]
  },
  {
   "cell_type": "code",
   "execution_count": 10,
   "metadata": {
    "ExecuteTime": {
     "end_time": "2023-05-26T13:13:06.575664Z",
     "start_time": "2023-05-26T13:13:06.574379Z"
    }
   },
   "outputs": [],
   "source": [
    "c = Card(suit=1, rank=1)"
   ]
  },
  {
   "cell_type": "code",
   "execution_count": 11,
   "metadata": {
    "ExecuteTime": {
     "end_time": "2023-05-26T13:13:06.577847Z",
     "start_time": "2023-05-26T13:13:06.576200Z"
    }
   },
   "outputs": [],
   "source": [
    "c"
   ]
  },
  {
   "cell_type": "code",
   "execution_count": 12,
   "metadata": {
    "ExecuteTime": {
     "end_time": "2023-05-26T13:13:06.579956Z",
     "start_time": "2023-05-26T13:13:06.578484Z"
    }
   },
   "outputs": [],
   "source": [
    "print(c)"
   ]
  },
  {
   "cell_type": "markdown",
   "metadata": {},
   "source": [
    "# Comparison operators\n",
    "\n",
    "Equality between two card is given by same suit and rank"
   ]
  },
  {
   "cell_type": "code",
   "execution_count": 13,
   "metadata": {
    "ExecuteTime": {
     "end_time": "2023-05-26T13:13:06.581957Z",
     "start_time": "2023-05-26T13:13:06.580473Z"
    }
   },
   "outputs": [],
   "source": [
    "#| export\n",
    "@patch\n",
    "def __eq__(self: Card, other:Card): return (self.suit, self.rank)==(other.suit, other.rank)"
   ]
  },
  {
   "cell_type": "code",
   "execution_count": 14,
   "metadata": {
    "ExecuteTime": {
     "end_time": "2023-05-26T13:13:06.585135Z",
     "start_time": "2023-05-26T13:13:06.582622Z"
    }
   },
   "outputs": [],
   "source": [
    "show_doc(Card.__eq__)"
   ]
  },
  {
   "cell_type": "code",
   "execution_count": 15,
   "metadata": {
    "ExecuteTime": {
     "end_time": "2023-05-26T13:13:06.587574Z",
     "start_time": "2023-05-26T13:13:06.585800Z"
    }
   },
   "outputs": [],
   "source": [
    "Card(suit=1, rank=1) == Card(suit=1, rank=1)"
   ]
  },
  {
   "cell_type": "code",
   "execution_count": 16,
   "metadata": {
    "ExecuteTime": {
     "end_time": "2023-05-26T13:13:06.590285Z",
     "start_time": "2023-05-26T13:13:06.588398Z"
    }
   },
   "outputs": [],
   "source": [
    "Card(suit=1, rank=1) == Card(suit=2, rank=1)"
   ]
  },
  {
   "cell_type": "code",
   "execution_count": 17,
   "metadata": {
    "ExecuteTime": {
     "end_time": "2023-05-26T13:13:06.592835Z",
     "start_time": "2023-05-26T13:13:06.591063Z"
    }
   },
   "outputs": [],
   "source": [
    "#| hide\n",
    "test_eq(Card(suit=1, rank=1), Card(suit=1, rank=1))\n",
    "test_ne(Card(suit=2, rank=1), Card(suit=1, rank=1))\n",
    "test_ne(Card(suit=1, rank=2), Card(suit=1, rank=1))"
   ]
  },
  {
   "cell_type": "code",
   "execution_count": 18,
   "metadata": {
    "ExecuteTime": {
     "end_time": "2023-05-26T13:13:06.594747Z",
     "start_time": "2023-05-26T13:13:06.593408Z"
    }
   },
   "outputs": [],
   "source": [
    "#| export\n",
    "@patch\n",
    "def __lt__(self: Card, other:Card): return self.rank < other.rank"
   ]
  },
  {
   "cell_type": "code",
   "execution_count": 19,
   "metadata": {
    "ExecuteTime": {
     "end_time": "2023-05-26T13:13:06.597092Z",
     "start_time": "2023-05-26T13:13:06.595260Z"
    }
   },
   "outputs": [],
   "source": [
    "# Example\n",
    "Card(suit=1, rank=1) < Card(suit=2, rank=2)"
   ]
  },
  {
   "cell_type": "code",
   "execution_count": 20,
   "metadata": {
    "ExecuteTime": {
     "end_time": "2023-05-26T13:13:06.600511Z",
     "start_time": "2023-05-26T13:13:06.598026Z"
    }
   },
   "outputs": [],
   "source": [
    "show_doc(Card.__lt__)"
   ]
  },
  {
   "cell_type": "code",
   "execution_count": 21,
   "metadata": {
    "ExecuteTime": {
     "end_time": "2023-05-26T13:13:06.603182Z",
     "start_time": "2023-05-26T13:13:06.601357Z"
    }
   },
   "outputs": [],
   "source": [
    "Card(suit=1, rank=1) > Card(suit=2, rank=1)"
   ]
  },
  {
   "cell_type": "code",
   "execution_count": 22,
   "metadata": {
    "ExecuteTime": {
     "end_time": "2023-05-26T13:13:06.605132Z",
     "start_time": "2023-05-26T13:13:06.603772Z"
    }
   },
   "outputs": [],
   "source": [
    "#| hide\n",
    "assert Card(suit=1, rank=3) < Card(suit=1, rank=4)"
   ]
  },
  {
   "cell_type": "code",
   "execution_count": 23,
   "metadata": {
    "ExecuteTime": {
     "end_time": "2023-05-26T13:13:06.607487Z",
     "start_time": "2023-05-26T13:13:06.605771Z"
    }
   },
   "outputs": [],
   "source": [
    "#| export\n",
    "@patch\n",
    "def __gt__(self: Card, other:Card): return self.rank > other.rank\n"
   ]
  },
  {
   "cell_type": "code",
   "execution_count": 24,
   "metadata": {
    "ExecuteTime": {
     "end_time": "2023-05-26T13:13:06.612021Z",
     "start_time": "2023-05-26T13:13:06.610578Z"
    }
   },
   "outputs": [],
   "source": [
    "#| hide\n",
    "assert Card(suit=1, rank=2) > Card(suit=1, rank=1)"
   ]
  },
  {
   "cell_type": "code",
   "execution_count": 25,
   "metadata": {
    "ExecuteTime": {
     "end_time": "2023-05-26T13:13:06.615061Z",
     "start_time": "2023-05-26T13:13:06.612729Z"
    }
   },
   "outputs": [],
   "source": [
    "show_doc(Card.__gt__)"
   ]
  },
  {
   "cell_type": "code",
   "execution_count": 2,
   "metadata": {
    "ExecuteTime": {
     "end_time": "2023-05-26T14:31:11.110732Z",
     "start_time": "2023-05-26T14:31:11.082177Z"
    }
   },
   "outputs": [],
   "source": [
    "#| hide\n",
    "import nbdev; nbdev.nbdev_export()"
   ]
  },
  {
   "cell_type": "code",
   "execution_count": null,
   "metadata": {},
   "outputs": [],
   "source": []
  }
 ],
 "metadata": {
  "hide_input": false,
  "kernelspec": {
   "display_name": "Python3 (fastbook)",
   "language": "python",
   "name": "fastbook"
  },
  "language_info": {
   "codemirror_mode": {
    "name": "ipython",
    "version": 3
   },
   "file_extension": ".py",
   "mimetype": "text/x-python",
   "name": "python",
   "nbconvert_exporter": "python",
   "pygments_lexer": "ipython3",
   "version": "3.11.3"
  },
  "toc": {
   "base_numbering": 1,
   "nav_menu": {},
   "number_sections": true,
   "sideBar": true,
   "skip_h1_title": false,
   "title_cell": "Table of Contents",
   "title_sidebar": "Contents",
   "toc_cell": false,
   "toc_position": {},
   "toc_section_display": true,
   "toc_window_display": false
  }
 },
 "nbformat": 4,
 "nbformat_minor": 4
}
