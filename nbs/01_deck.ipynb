{
 "cells": [
  {
   "cell_type": "markdown",
   "metadata": {},
   "source": [
    "# deck -- A deck of playing cards\n",
    "\n",
    "> A collection of cards"
   ]
  },
  {
   "cell_type": "code",
   "execution_count": 128,
   "metadata": {
    "ExecuteTime": {
     "end_time": "2023-05-26T14:50:18.516200Z",
     "start_time": "2023-05-26T14:50:18.510001Z"
    }
   },
   "outputs": [],
   "source": [
    "#| default_exp deck"
   ]
  },
  {
   "cell_type": "code",
   "execution_count": 129,
   "metadata": {
    "ExecuteTime": {
     "end_time": "2023-05-26T14:50:18.659514Z",
     "start_time": "2023-05-26T14:50:18.652553Z"
    }
   },
   "outputs": [],
   "source": [
    "#| export\n",
    "from nbdev_cards.card import *\n",
    "from fastcore.utils import *"
   ]
  },
  {
   "cell_type": "code",
   "execution_count": 130,
   "metadata": {
    "ExecuteTime": {
     "end_time": "2023-05-26T14:50:18.812670Z",
     "start_time": "2023-05-26T14:50:18.805231Z"
    }
   },
   "outputs": [],
   "source": [
    "#| hide\n",
    "from nbdev.showdoc import *\n",
    "from fastcore.test import *"
   ]
  },
  {
   "cell_type": "code",
   "execution_count": 142,
   "metadata": {
    "ExecuteTime": {
     "end_time": "2023-05-26T14:51:49.370275Z",
     "start_time": "2023-05-26T14:51:49.359819Z"
    }
   },
   "outputs": [],
   "source": [
    "#| export\n",
    "class Deck:\n",
    "    'A deck of 52 cards'\n",
    "    def __init__(self):\n",
    "        self.cards = [Card(s, r) for s in range(4) for r in range(2,15)]\n",
    "    def __len__(self):\n",
    "        return len(self.cards)\n",
    "    def __str__(self):\n",
    "        return \"; \".join(map(str, self.cards))\n",
    "    def __contains__(self, other: Card):\n",
    "        return other in self.cards\n",
    "    __repr__ = __str__"
   ]
  },
  {
   "cell_type": "markdown",
   "metadata": {},
   "source": [
    "A new deck contains all the cards:"
   ]
  },
  {
   "cell_type": "code",
   "execution_count": 143,
   "metadata": {
    "ExecuteTime": {
     "end_time": "2023-05-26T14:51:49.680739Z",
     "start_time": "2023-05-26T14:51:49.667720Z"
    }
   },
   "outputs": [
    {
     "data": {
      "text/plain": [
       "♣️2; ♣️3; ♣️4; ♣️5; ♣️6; ♣️7; ♣️8; ♣️9; ♣️10; ♣️J; ♣️Q; ♣️K; ♣️A; ♠️2; ♠️3; ♠️4; ♠️5; ♠️6; ♠️7; ♠️8; ♠️9; ♠️10; ♠️J; ♠️Q; ♠️K; ♠️A; ❤️2; ❤️3; ❤️4; ❤️5; ❤️6; ❤️7; ❤️8; ❤️9; ❤️10; ❤️J; ❤️Q; ❤️K; ❤️A; ♦️2; ♦️3; ♦️4; ♦️5; ♦️6; ♦️7; ♦️8; ♦️9; ♦️10; ♦️J; ♦️Q; ♦️K; ♦️A"
      ]
     },
     "execution_count": 143,
     "metadata": {},
     "output_type": "execute_result"
    }
   ],
   "source": [
    "deck = Deck()\n",
    "deck"
   ]
  },
  {
   "cell_type": "markdown",
   "metadata": {},
   "source": [
    "It contains 52 cards."
   ]
  },
  {
   "cell_type": "code",
   "execution_count": 144,
   "metadata": {
    "ExecuteTime": {
     "end_time": "2023-05-26T14:51:49.987096Z",
     "start_time": "2023-05-26T14:51:49.977874Z"
    }
   },
   "outputs": [
    {
     "data": {
      "text/plain": [
       "52"
      ]
     },
     "execution_count": 144,
     "metadata": {},
     "output_type": "execute_result"
    }
   ],
   "source": [
    "len(deck)"
   ]
  },
  {
   "cell_type": "code",
   "execution_count": 145,
   "metadata": {
    "ExecuteTime": {
     "end_time": "2023-05-26T14:51:50.141369Z",
     "start_time": "2023-05-26T14:51:50.136585Z"
    }
   },
   "outputs": [],
   "source": [
    "test_ne(len(deck), 51)"
   ]
  },
  {
   "cell_type": "markdown",
   "metadata": {},
   "source": [
    "We can check if a specific cards (here Ace  of Club) is in the deck."
   ]
  },
  {
   "cell_type": "code",
   "execution_count": 146,
   "metadata": {
    "ExecuteTime": {
     "end_time": "2023-05-26T14:51:50.469446Z",
     "start_time": "2023-05-26T14:51:50.461697Z"
    }
   },
   "outputs": [
    {
     "name": "stdout",
     "output_type": "stream",
     "text": [
      "♣️A\n"
     ]
    },
    {
     "data": {
      "text/plain": [
       "True"
      ]
     },
     "execution_count": 146,
     "metadata": {},
     "output_type": "execute_result"
    }
   ],
   "source": [
    "print(Card(0,14))\n",
    "Card(1,14) in deck"
   ]
  },
  {
   "cell_type": "code",
   "execution_count": 147,
   "metadata": {
    "ExecuteTime": {
     "end_time": "2023-05-26T14:51:50.659717Z",
     "start_time": "2023-05-26T14:51:50.652894Z"
    }
   },
   "outputs": [],
   "source": [
    "#| export\n",
    "@patch\n",
    "def pop(self: Deck,\n",
    "        idx:int=-1): # The index of the card to remove, defaulting to the last one\n",
    "        \"Remove one card from the deck\"\n",
    "        return self.cards.pop(idx)"
   ]
  },
  {
   "cell_type": "code",
   "execution_count": 148,
   "metadata": {
    "ExecuteTime": {
     "end_time": "2023-05-26T14:51:51.136784Z",
     "start_time": "2023-05-26T14:51:51.125957Z"
    }
   },
   "outputs": [
    {
     "data": {
      "text/markdown": [
       "---\n",
       "\n",
       "### Deck.pop\n",
       "\n",
       ">      Deck.pop (idx:int=-1)\n",
       "\n",
       "Remove one card from the deck\n",
       "\n",
       "|    | **Type** | **Default** | **Details** |\n",
       "| -- | -------- | ----------- | ----------- |\n",
       "| idx | int | -1 | The index of the card to remove, defaulting to the last one |"
      ],
      "text/plain": [
       "---\n",
       "\n",
       "### Deck.pop\n",
       "\n",
       ">      Deck.pop (idx:int=-1)\n",
       "\n",
       "Remove one card from the deck\n",
       "\n",
       "|    | **Type** | **Default** | **Details** |\n",
       "| -- | -------- | ----------- | ----------- |\n",
       "| idx | int | -1 | The index of the card to remove, defaulting to the last one |"
      ]
     },
     "execution_count": 148,
     "metadata": {},
     "output_type": "execute_result"
    }
   ],
   "source": [
    "show_doc(Deck.pop)"
   ]
  },
  {
   "cell_type": "markdown",
   "metadata": {},
   "source": [
    "Here we the Ace of Hearts from the deck!"
   ]
  },
  {
   "cell_type": "code",
   "execution_count": 156,
   "metadata": {
    "ExecuteTime": {
     "end_time": "2023-05-26T14:53:16.568231Z",
     "start_time": "2023-05-26T14:53:16.557475Z"
    }
   },
   "outputs": [
    {
     "data": {
      "text/plain": [
       "❤️A"
      ]
     },
     "execution_count": 156,
     "metadata": {},
     "output_type": "execute_result"
    }
   ],
   "source": [
    "deck = Deck()\n",
    "ace_of_hearts = deck.pop(38)\n",
    "ace_of_hearts"
   ]
  },
  {
   "cell_type": "code",
   "execution_count": 157,
   "metadata": {
    "ExecuteTime": {
     "end_time": "2023-05-26T14:53:16.775383Z",
     "start_time": "2023-05-26T14:53:16.770207Z"
    }
   },
   "outputs": [],
   "source": [
    "deck = Deck()\n",
    "test_eq(Card(2,14), deck.pop(38))"
   ]
  },
  {
   "cell_type": "code",
   "execution_count": 141,
   "metadata": {
    "ExecuteTime": {
     "end_time": "2023-05-26T14:51:44.045557Z",
     "start_time": "2023-05-26T14:51:44.019984Z"
    }
   },
   "outputs": [],
   "source": [
    "#| hide\n",
    "import nbdev; nbdev.nbdev_export()"
   ]
  },
  {
   "cell_type": "code",
   "execution_count": null,
   "metadata": {},
   "outputs": [],
   "source": []
  },
  {
   "cell_type": "code",
   "execution_count": null,
   "metadata": {},
   "outputs": [],
   "source": []
  }
 ],
 "metadata": {
  "hide_input": false,
  "kernelspec": {
   "display_name": "Python3 (fastbook)",
   "language": "python",
   "name": "fastbook"
  },
  "language_info": {
   "codemirror_mode": {
    "name": "ipython",
    "version": 3
   },
   "file_extension": ".py",
   "mimetype": "text/x-python",
   "name": "python",
   "nbconvert_exporter": "python",
   "pygments_lexer": "ipython3",
   "version": "3.11.3"
  },
  "toc": {
   "base_numbering": 1,
   "nav_menu": {},
   "number_sections": true,
   "sideBar": true,
   "skip_h1_title": false,
   "title_cell": "Table of Contents",
   "title_sidebar": "Contents",
   "toc_cell": false,
   "toc_position": {},
   "toc_section_display": true,
   "toc_window_display": false
  }
 },
 "nbformat": 4,
 "nbformat_minor": 4
}
