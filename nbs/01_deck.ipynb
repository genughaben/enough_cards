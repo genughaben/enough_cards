{
 "cells": [
  {
   "cell_type": "markdown",
   "metadata": {},
   "source": [
    "# deck -- A deck of playing cards\n",
    "\n",
    "> A collection of cards"
   ]
  },
  {
   "cell_type": "code",
   "execution_count": null,
   "metadata": {},
   "outputs": [],
   "source": [
    "#| default_exp deck"
   ]
  },
  {
   "cell_type": "code",
   "execution_count": null,
   "metadata": {},
   "outputs": [],
   "source": [
    "#| export\n",
    "import random\n",
    "from enough_cards.card import *\n",
    "from fastcore.utils import *"
   ]
  },
  {
   "cell_type": "code",
   "execution_count": null,
   "metadata": {},
   "outputs": [],
   "source": [
    "#| hide\n",
    "from nbdev.showdoc import *\n",
    "from fastcore.test import *"
   ]
  },
  {
   "cell_type": "code",
   "execution_count": null,
   "metadata": {},
   "outputs": [],
   "source": [
    "#| export\n",
    "class Deck:\n",
    "    'A deck of 52 cards'\n",
    "    def __init__(self):\n",
    "        self.cards = [Card(s, r) for s in range(4) for r in range(2,15)]\n",
    "    def __len__(self):\n",
    "        return len(self.cards)\n",
    "    def __str__(self):\n",
    "        return \"; \".join(map(str, self.cards))\n",
    "    def __contains__(self, other: Card):\n",
    "        return other in self.cards\n",
    "    __repr__ = __str__\n",
    "    \n",
    "    def shuffle(self):\n",
    "        \"Randomizes card order in deck\"\n",
    "        random.shuffle(self.cards)"
   ]
  },
  {
   "cell_type": "code",
   "execution_count": null,
   "metadata": {},
   "outputs": [
    {
     "data": {
      "text/markdown": [
       "---\n",
       "\n",
       "[source](https://github.com/genughaben/enough_cards/blob/main/enough_cards/deck.py#L24){target=\"_blank\" style=\"float:right; font-size:smaller\"}\n",
       "\n",
       "### Deck.shuffle\n",
       "\n",
       ">      Deck.shuffle ()\n",
       "\n",
       "Randomizes card order in deck"
      ],
      "text/plain": [
       "---\n",
       "\n",
       "[source](https://github.com/genughaben/enough_cards/blob/main/enough_cards/deck.py#L24){target=\"_blank\" style=\"float:right; font-size:smaller\"}\n",
       "\n",
       "### Deck.shuffle\n",
       "\n",
       ">      Deck.shuffle ()\n",
       "\n",
       "Randomizes card order in deck"
      ]
     },
     "execution_count": null,
     "metadata": {},
     "output_type": "execute_result"
    }
   ],
   "source": [
    "show_doc(Deck.shuffle)"
   ]
  },
  {
   "cell_type": "markdown",
   "metadata": {},
   "source": [
    "A new deck contains all the cards:"
   ]
  },
  {
   "cell_type": "markdown",
   "metadata": {},
   "source": [
    "**Examples**"
   ]
  },
  {
   "cell_type": "code",
   "execution_count": null,
   "metadata": {},
   "outputs": [
    {
     "data": {
      "text/plain": [
       "♣️2; ♣️3; ♣️4; ♣️5; ♣️6; ♣️7; ♣️8; ♣️9; ♣️10; ♣️J; ♣️Q; ♣️K; ♣️A; ♠️2; ♠️3; ♠️4; ♠️5; ♠️6; ♠️7; ♠️8; ♠️9; ♠️10; ♠️J; ♠️Q; ♠️K; ♠️A; ❤️2; ❤️3; ❤️4; ❤️5; ❤️6; ❤️7; ❤️8; ❤️9; ❤️10; ❤️J; ❤️Q; ❤️K; ❤️A; ♦️2; ♦️3; ♦️4; ♦️5; ♦️6; ♦️7; ♦️8; ♦️9; ♦️10; ♦️J; ♦️Q; ♦️K; ♦️A"
      ]
     },
     "execution_count": null,
     "metadata": {},
     "output_type": "execute_result"
    }
   ],
   "source": [
    "deck = Deck()\n",
    "deck"
   ]
  },
  {
   "cell_type": "markdown",
   "metadata": {},
   "source": [
    "It contains 52 cards."
   ]
  },
  {
   "cell_type": "code",
   "execution_count": null,
   "metadata": {},
   "outputs": [
    {
     "data": {
      "text/plain": [
       "52"
      ]
     },
     "execution_count": null,
     "metadata": {},
     "output_type": "execute_result"
    }
   ],
   "source": [
    "len(deck)"
   ]
  },
  {
   "cell_type": "code",
   "execution_count": null,
   "metadata": {},
   "outputs": [],
   "source": [
    "test_ne(len(deck), 51)"
   ]
  },
  {
   "cell_type": "markdown",
   "metadata": {},
   "source": [
    "We can check if a specific cards (here Ace  of Club) is in the deck."
   ]
  },
  {
   "cell_type": "code",
   "execution_count": null,
   "metadata": {},
   "outputs": [
    {
     "name": "stdout",
     "output_type": "stream",
     "text": [
      "♣️A\n"
     ]
    },
    {
     "data": {
      "text/plain": [
       "True"
      ]
     },
     "execution_count": null,
     "metadata": {},
     "output_type": "execute_result"
    }
   ],
   "source": [
    "print(Card(0,14))\n",
    "Card(1,14) in deck"
   ]
  },
  {
   "cell_type": "code",
   "execution_count": null,
   "metadata": {},
   "outputs": [],
   "source": [
    "#| export\n",
    "@patch\n",
    "def pop(self: Deck,\n",
    "        idx:int=-1): # The index of the card to remove, defaulting to the last one\n",
    "        \"Remove one card from the deck\"\n",
    "        return self.cards.pop(idx)"
   ]
  },
  {
   "cell_type": "markdown",
   "metadata": {},
   "source": [
    "**Examples**"
   ]
  },
  {
   "cell_type": "markdown",
   "metadata": {},
   "source": [
    "Here we the Ace of Hearts from the deck!"
   ]
  },
  {
   "cell_type": "code",
   "execution_count": null,
   "metadata": {},
   "outputs": [
    {
     "data": {
      "text/plain": [
       "❤️A"
      ]
     },
     "execution_count": null,
     "metadata": {},
     "output_type": "execute_result"
    }
   ],
   "source": [
    "deck = Deck()\n",
    "ace_of_hearts = deck.pop(38)\n",
    "ace_of_hearts"
   ]
  },
  {
   "cell_type": "code",
   "execution_count": null,
   "metadata": {},
   "outputs": [],
   "source": [
    "# Tests\n",
    "deck = Deck()\n",
    "test_eq(Card(2,14), deck.pop(38))"
   ]
  },
  {
   "cell_type": "code",
   "execution_count": null,
   "metadata": {},
   "outputs": [],
   "source": [
    "#| export\n",
    "@patch\n",
    "def remove(\n",
    "    self: Deck, \n",
    "    card: Card): # Card to remove\n",
    "    self.cards.remove(card)"
   ]
  },
  {
   "cell_type": "markdown",
   "metadata": {},
   "source": [
    "**Examples**"
   ]
  },
  {
   "cell_type": "code",
   "execution_count": null,
   "metadata": {},
   "outputs": [],
   "source": [
    "# Tests\n",
    "deck = Deck()\n",
    "remove_card = Card(2,14)\n",
    "deck.remove(remove_card)\n",
    "test_eq(51, len(deck))\n",
    "test_ne(True, Card(2,14) in deck)\n",
    "assert remove_card not in deck"
   ]
  },
  {
   "cell_type": "code",
   "execution_count": null,
   "metadata": {},
   "outputs": [],
   "source": [
    "#| export\n",
    "@patch\n",
    "def draw(self: Deck,\n",
    "        n:int=1, # Number of cards to be drawn\n",
    "        replace:bool=True): # When true: drawn with replace, if false: not.\n",
    "    deck.shuffle()\n",
    "    if replace:\n",
    "        return [random.choice(self.cards) for i in range(n)]\n",
    "    else:\n",
    "        return self.cards[:n]"
   ]
  },
  {
   "cell_type": "markdown",
   "metadata": {},
   "source": [
    "**Examples**"
   ]
  },
  {
   "cell_type": "code",
   "execution_count": null,
   "metadata": {},
   "outputs": [
    {
     "data": {
      "text/plain": [
       "[♣️A, ♠️A, ♦️J, ♣️4, ❤️2, ♦️4, ♦️10, ❤️K, ♠️3, ♦️6]"
      ]
     },
     "execution_count": null,
     "metadata": {},
     "output_type": "execute_result"
    }
   ],
   "source": [
    "# drawn without replacement\n",
    "deck = Deck()\n",
    "deck.draw(10, False)"
   ]
  },
  {
   "cell_type": "code",
   "execution_count": null,
   "metadata": {},
   "outputs": [
    {
     "data": {
      "text/plain": [
       "[♦️10, ❤️K, ♣️7, ♦️3, ♠️Q, ♠️K, ♠️K, ♠️10, ♣️J, ♦️J]"
      ]
     },
     "execution_count": null,
     "metadata": {},
     "output_type": "execute_result"
    }
   ],
   "source": [
    "# drawn with replacement\n",
    "deck.draw(10)"
   ]
  },
  {
   "cell_type": "code",
   "execution_count": null,
   "metadata": {},
   "outputs": [],
   "source": [
    "#| hide\n",
    "import nbdev; nbdev.nbdev_export()"
   ]
  },
  {
   "cell_type": "code",
   "execution_count": null,
   "metadata": {},
   "outputs": [],
   "source": []
  }
 ],
 "metadata": {
  "kernelspec": {
   "display_name": "fastbook",
   "language": "python",
   "name": "fastbook"
  }
 },
 "nbformat": 4,
 "nbformat_minor": 4
}
